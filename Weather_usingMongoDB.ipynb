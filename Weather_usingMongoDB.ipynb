{
 "cells": [
  {
   "cell_type": "code",
   "execution_count": 1,
   "id": "aad31b1f-95f9-4b10-ab0b-85b80d76bf45",
   "metadata": {},
   "outputs": [
    {
     "name": "stdout",
     "output_type": "stream",
     "text": [
      "Collecting pymongo\n",
      "  Downloading pymongo-4.11.3-cp312-cp312-win_amd64.whl.metadata (22 kB)\n",
      "Collecting dnspython<3.0.0,>=1.16.0 (from pymongo)\n",
      "  Downloading dnspython-2.7.0-py3-none-any.whl.metadata (5.8 kB)\n",
      "Downloading pymongo-4.11.3-cp312-cp312-win_amd64.whl (882 kB)\n",
      "   ---------------------------------------- 0.0/882.3 kB ? eta -:--:--\n",
      "   ---------------------------------------- 882.3/882.3 kB 9.8 MB/s eta 0:00:00\n",
      "Downloading dnspython-2.7.0-py3-none-any.whl (313 kB)\n",
      "Installing collected packages: dnspython, pymongo\n",
      "Successfully installed dnspython-2.7.0 pymongo-4.11.3\n"
     ]
    }
   ],
   "source": [
    "# Step 1: Install pymongo if not already installed\n",
    "!pip install pymongo"
   ]
  },
  {
   "cell_type": "code",
   "execution_count": 194,
   "id": "7fed0629-4727-4e54-9431-e7cde954189f",
   "metadata": {},
   "outputs": [],
   "source": [
    "# Step 2: Import necessary libraries\n",
    "from pymongo import MongoClient\n",
    "import pandas as pd\n",
    "from datetime import datetime"
   ]
  },
  {
   "cell_type": "code",
   "execution_count": 196,
   "id": "62914fff-daf4-4ab9-b4e2-d80c0fd2ee28",
   "metadata": {},
   "outputs": [],
   "source": [
    "# Step 3: Connect to MongoDB (default localhost)\n",
    "client = MongoClient(\"mongodb://localhost:27017/\")"
   ]
  },
  {
   "cell_type": "code",
   "execution_count": 198,
   "id": "0582bbbc-ca71-4c56-a07f-ebe9277173c4",
   "metadata": {},
   "outputs": [],
   "source": [
    "db = client[\"BDA\"]\n",
    "collection = db[\"Weather_data\"]"
   ]
  },
  {
   "cell_type": "code",
   "execution_count": 200,
   "id": "79414cee-83ab-497b-9cc9-33847129310e",
   "metadata": {},
   "outputs": [],
   "source": [
    "# Fetch all documents from Weather_data\n",
    "documents = list(collection.find({}, {\"Date\": 1, \"MaxTemp\": 1, \"_id\": 0}))\n"
   ]
  },
  {
   "cell_type": "code",
   "execution_count": 202,
   "id": "96d1ea8a-9800-4a5d-9cc8-d17de1eb5b78",
   "metadata": {},
   "outputs": [],
   "source": [
    "# Convert to DataFrame\n",
    "df = pd.DataFrame(documents)"
   ]
  },
  {
   "cell_type": "code",
   "execution_count": 204,
   "id": "d1c1ca94-1481-4259-b2a9-e3420bd89b17",
   "metadata": {},
   "outputs": [],
   "source": [
    "# Convert Date to datetime and extract Year\n",
    "df['Date'] = pd.to_datetime(df['Date'], errors='coerce')\n",
    "df['Year'] = df['Date'].dt.year"
   ]
  },
  {
   "cell_type": "code",
   "execution_count": 206,
   "id": "459b84f5-e7a1-493a-9529-822c8a47a2f1",
   "metadata": {},
   "outputs": [],
   "source": [
    "# Group by Year and calculate max temperature\n",
    "result = df.groupby('Year')['MaxTemp'].max().reset_index()\n",
    "result.columns = ['Year', 'MaxRecordedTemp']\n"
   ]
  },
  {
   "cell_type": "code",
   "execution_count": 208,
   "id": "23346a61-5561-4fa8-a42d-241ac6750078",
   "metadata": {},
   "outputs": [
    {
     "name": "stdout",
     "output_type": "stream",
     "text": [
      "📈 Max Recorded Temperature by Year:\n",
      "    Year  MaxRecordedTemp\n",
      "0   2010             34.7\n",
      "1   2011             37.3\n",
      "2   2012             39.1\n",
      "3   2013             35.4\n",
      "4   2014             38.0\n",
      "5   2015             37.6\n",
      "6   2016             31.8\n",
      "7   2017             39.5\n",
      "8   2018             35.1\n",
      "9   2019             39.2\n",
      "10  2020             39.9\n",
      "11  2021             41.0\n",
      "12  2022             41.5\n",
      "13  2023             38.8\n",
      "14  2024             36.1\n"
     ]
    }
   ],
   "source": [
    "# Show result\n",
    "print(\"📈 Max Recorded Temperature by Year:\")\n",
    "print(result)"
   ]
  },
  {
   "cell_type": "code",
   "execution_count": null,
   "id": "288bf450-bddb-44d8-85f8-193b9084a4dc",
   "metadata": {},
   "outputs": [],
   "source": []
  }
 ],
 "metadata": {
  "kernelspec": {
   "display_name": "Python 3 (ipykernel)",
   "language": "python",
   "name": "python3"
  },
  "language_info": {
   "codemirror_mode": {
    "name": "ipython",
    "version": 3
   },
   "file_extension": ".py",
   "mimetype": "text/x-python",
   "name": "python",
   "nbconvert_exporter": "python",
   "pygments_lexer": "ipython3",
   "version": "3.12.7"
  }
 },
 "nbformat": 4,
 "nbformat_minor": 5
}
